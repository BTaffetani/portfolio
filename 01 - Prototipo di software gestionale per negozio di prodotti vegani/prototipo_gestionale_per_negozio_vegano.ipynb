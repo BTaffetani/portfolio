{
  "metadata": {
    "kernelspec": {
      "name": "python3",
      "display_name": "Python 3"
    },
    "language_info": {
      "name": "python"
    },
    "colab": {
      "provenance": []
    },
    "kaggle": {
      "accelerator": "none",
      "dataSources": [],
      "isInternetEnabled": true,
      "language": "python",
      "sourceType": "notebook",
      "isGpuEnabled": false
    }
  },
  "nbformat_minor": 0,
  "nbformat": 4,
  "cells": [
    {
      "cell_type": "markdown",
      "source": [
        "# Prototipo per un software gestionale destinato a un negozio di prodotti vegani"
      ],
      "metadata": {
        "id": "mvcXhJbVoPH_"
      }
    },
    {
      "cell_type": "markdown",
      "source": [
        "L'obiettivo di questo notebook è mostrare un prototipo per un software gestionale destinato a un negozio di prodotti vegani.\n",
        "\n",
        "Nelle specifiche si chiedeva che il software disponesse delle seguenti funzionalità:\n",
        "* Registrare l'arrivo di nuovi prodotti in magazzino;\n",
        "* Registrare le vendite effettuate;\n",
        "* Mostrare a video l'elenco dei prodotti disponibili in magazzino:\n",
        "* Calcolare e stampare il profitto lordo, ossia la somma dei guadagni ottenuti dalle vendite;\n",
        "* Calcolare e stampare il profitto netto, ossia la differenza tra il profitto lordo e la somma degli acquisti;\n",
        "* Stampare un menu dei comandi disponibili.\n",
        "\n",
        "Sempre secondo le specifiche, il programma doveva possedere le seguenti caratteristiche:\n",
        "* Essere permanente, quindi i dati inseriti dovevano esistere al di fuori del programma stesso memorizzati su file;\n",
        "* I dati inseriti devono essere validati e corretti;\n",
        "* Il programma è testuale, cioè i comandi dovevano essere inseriti tramite tastiera dall'utente.\n",
        "\n",
        "Ogni sezione del notebook mostrerà come è stato svolto il progetto. In particolare, dopo aver mostrato il menu di aiuto nella prima sezione, sarà spiegato come il programma gestisce i flussi di vendita e di acquisto. Dopo il calcolo dei profitti lordi e netti, il notebook si conclude con il prototipo del programma e un esempio del suo funzionamento."
      ],
      "metadata": {
        "id": "s_JRWv1cIEDL"
      }
    },
    {
      "cell_type": "markdown",
      "source": [
        "## Il menu di aiuto\n",
        "\n",
        "Per realizzare il menu di aiuto, è stato prima definito il dizionario *help_dict*, che a ogni comando disponibile associa una breve descrizione del comando stesso."
      ],
      "metadata": {
        "id": "R57xH4CBohAy"
      }
    },
    {
      "cell_type": "code",
      "source": [
        "help_dict={\"aiuto\" : \"Spiega i comandi che puoi usare\",\n",
        "           \"registra\":\"Registra i nuovi arrivi in magazzino\",\n",
        "           \"vendi\":\"Registra le nuove vendite\",\n",
        "           \"magazzino\":\"Riepiloga le disponibilità di magazzino\",\n",
        "           \"lordo\":\"Mostra i profitti lordi\",\n",
        "           \"netto\":\"Mostra i profitti netti\",\n",
        "           \"esci\":\"Chiude il programma\"}"
      ],
      "metadata": {
        "id": "YNTAZIXHz8AC"
      },
      "outputs": [],
      "execution_count": 1
    },
    {
      "cell_type": "markdown",
      "source": [
        "La funzione **ask_help** ha il compito sia di mostrare il menu che di validare il comando inserito. L'idea è che, nel caso in cui l'utente sbagli a inserire il comando, il menu di aiuto venga comunque stampato per guidarlo nell'uso del programma."
      ],
      "metadata": {
        "id": "EB36iasFKWjz"
      }
    },
    {
      "cell_type": "code",
      "source": [
        "def ask_help(command=\"aiuto\"):\n",
        "  if command not in help_dict.keys():\n",
        "    print(\"Comando non riconosciuto\")\n",
        "\n",
        "  print(\"Questi sono i comandi che puoi utilizzare\")\n",
        "  for key in help_dict.keys():\n",
        "    print(f\"{key} = {help_dict[key]}\")"
      ],
      "metadata": {
        "id": "qq64ycZ3KNHo"
      },
      "outputs": [],
      "execution_count": 2
    },
    {
      "cell_type": "markdown",
      "source": [
        "## Flussi di magazzino\n",
        "\n",
        "In questa sezione sarà mostrato come il programma gestisce i flussi di magazzino. Dopo aver illustrato l'oggetto Product e le funzioni di supporto, le ultime tre sottosezioni saranno dedicate agli ingressi, alle uscite e ai riepiloghi di magazzino."
      ],
      "metadata": {
        "id": "VGB8hwhcolDJ"
      }
    },
    {
      "cell_type": "markdown",
      "source": [
        "### L'oggetto Product\n",
        "\n",
        "Dal momento che lo scopo del programma è la gestione di un magazzino di prodotti, si è deciso di creare un apposito oggetto chiamato appunto *Product* che può essere manipolato dal programma a partire dagli attributi di seguito elencati:\n",
        "* Una stringa *name* con il nome del prodotto convertito in minuscolo;\n",
        "* Un intero *quantity* che indica la quantità di prodotto;\n",
        "* I decimali *sell_price* e *buy_price* che indicano i prezzi di vendita e di acquisto rispettivamente.\n",
        "\n",
        "A questi attributi sono stati aggiunti i metodi:\n",
        "* **sell_total** e **buy_total** per il calcolo del totale di vendita e di acquisto;\n",
        "* **create_row**, che crea la riga di dati per l'inserimento nel file CSV;\n",
        "* **print_selling** e **print_buying** che stampano il totale di vendita e di acquisto;\n",
        "* Il metodo speciale per la stampa dell'oggetto.\n",
        "\n",
        "L'utilizzo di questi metodi sarà approfondito nelle prossime sottosezioni."
      ],
      "metadata": {
        "id": "WLaDYcfT1uxB"
      }
    },
    {
      "cell_type": "code",
      "source": [
        "class Product:\n",
        "  def __init__(self, name:str, quantity:int, sell_price:float, buy_price:float):\n",
        "    self.name = name\n",
        "    self.quantity = quantity\n",
        "    self.sell_price = sell_price\n",
        "    self.buy_price = buy_price\n",
        "\n",
        "  def sell_total(self):\n",
        "    return self.quantity * self.sell_price\n",
        "\n",
        "  def buy_total(self):\n",
        "    return self.quantity * self.buy_price\n",
        "\n",
        "  def create_row(self):\n",
        "    return [self.name, self.quantity, self.sell_price, self.buy_price]\n",
        "\n",
        "  def print_buying(self):\n",
        "    print(f\"{self.name} X {self.quantity} = € {self.buy_total()}\")\n",
        "\n",
        "  def print_selling(self):\n",
        "    print(f\"{self.name} X {self.quantity} = € {self.sell_total()}\")\n",
        "\n",
        "  def __repr__(self):\n",
        "    return f\"{self.name}\\t{self.quantity}\\t{self.sell_price}\\t{self.buy_price}\\n\""
      ],
      "metadata": {
        "id": "eSCkm3Vb2Nj1"
      },
      "outputs": [],
      "execution_count": 3
    },
    {
      "cell_type": "markdown",
      "source": [
        "### Funzioni di supporto\n",
        "\n",
        "Le funzioni di supporto in questa sezione hanno lo scopo di sostenere il lavoro delle funzioni principali nel programma.\n",
        "\n",
        "La prima funzione, **validate_integer**, ha lo scopo di validare le quantità di prodotto inserite da tastiera. Partendo dal presupposto che i prodotti siano disponibili in confezioni, non ha senso parlare di quantità decimali di confezioni per cui le quantità inserite devono essere intere."
      ],
      "metadata": {
        "id": "30cImIBU2F_O"
      }
    },
    {
      "cell_type": "code",
      "source": [
        "def validate_integer(quantity):\n",
        "  try:\n",
        "    quantity_int = int(quantity)\n",
        "    return quantity_int, True\n",
        "  except ValueError:\n",
        "    print(\"La quantità inserita deve essere un intero, riprova.\")\n",
        "    return 0, False"
      ],
      "metadata": {
        "id": "4JV_UKxyXhP-"
      },
      "outputs": [],
      "execution_count": 4
    },
    {
      "cell_type": "markdown",
      "source": [
        "In modo analogo, **validate_price** fa in modo che i prezzi inseriti da tastiera siano numeri decimali e positivi."
      ],
      "metadata": {
        "id": "jssC7XHMNAGp"
      }
    },
    {
      "cell_type": "code",
      "source": [
        "def validate_price(price):\n",
        "  try:\n",
        "    price_float = float(price)\n",
        "    assert price_float>0, \"Il prezzo deve essere un numero positivo\"\n",
        "    return price_float, True\n",
        "  except AssertionError:\n",
        "    print(\"Il prezzo deve essere un numero positivo, riprova.\")\n",
        "    return 0.0, False\n",
        "  except ValueError:\n",
        "    print(\"Il prezzo deve essere un numero con la virgola, riprova.\")\n",
        "    return 0.0, False"
      ],
      "metadata": {
        "id": "X39fBfwjZgiX"
      },
      "outputs": [],
      "execution_count": 5
    },
    {
      "cell_type": "markdown",
      "source": [
        "Infine, **validate_answer** valida le risposte alle domande che richiedono sì/no come risposta."
      ],
      "metadata": {
        "id": "uskEPL1-6dG3"
      }
    },
    {
      "cell_type": "code",
      "source": [
        "def validate_answer(answer):\n",
        "  try:\n",
        "    assert answer in (\"y\",\"n\"), \"La risposta inserita deve essere y/n.\"\n",
        "    return answer, True\n",
        "  except AssertionError:\n",
        "    print(\"La risposta inserita non è valida, riprova.\")\n",
        "    return \"\", False"
      ],
      "metadata": {
        "id": "7vR7tKQY4n-G"
      },
      "execution_count": 8,
      "outputs": []
    },
    {
      "cell_type": "markdown",
      "source": [
        "Infine, **create_file** crea i file CSV per gli ingressi, le uscite e i riepiloghi di magazzino qualora questi non esistano (come, ad esempio, può accadere in un caso di primo utilizzo)."
      ],
      "metadata": {
        "id": "XHokHEb2NKfO"
      }
    },
    {
      "cell_type": "code",
      "source": [
        "import csv\n",
        "import os\n",
        "\n",
        "entries_csv=\"entries.csv\"\n",
        "sales_csv=\"sales.csv\"\n",
        "store_csv=\"store.csv\"\n",
        "\n",
        "def create_file(name_path):\n",
        "  if not os.path.exists(name_path):\n",
        "    file=open(name_path, \"w\")\n",
        "    file.close()\n",
        "    print(f\"Il file {name_path} è stato creato\")"
      ],
      "metadata": {
        "id": "AnrinyFbbF18"
      },
      "outputs": [],
      "execution_count": 11
    },
    {
      "cell_type": "markdown",
      "source": [
        "### Registrare gli acquisti\n",
        "\n",
        "La registrazione degli acquisti nella funzione **entries** si avvale dei seguenti passi:\n",
        "1. Dopo l'inserimento del nome e della quantità, il programma controlla se il prodotto è presente in magazzino e, in caso positivo, recupera le informazioni sui prezzi, altrimenti li chiede da tastiera;\n",
        "2. Il programma inserisce il prodotto alla fine del file e ne stampa un riepilogo tramite il metodo **print_buying**;\n",
        "3. Il programma chiede se si vuole inserire un altro prodotto e, in caso affermativo, ripete dal passo 1."
      ],
      "metadata": {
        "id": "colE4Vfg16A1"
      }
    },
    {
      "cell_type": "code",
      "source": [
        "def entries():\n",
        "  answer = \"\"\n",
        "  while answer.lower() != \"n\":\n",
        "    name = input(\"Inserire il nome del prodotto: \").lower()\n",
        "\n",
        "    flag = False\n",
        "    while not flag:\n",
        "      quantity, flag=validate_integer(input(\"Inserire una quantità: \"))\n",
        "\n",
        "    store_list=store(to_print=False)\n",
        "\n",
        "    if name not in [x.name for x in store_list]:\n",
        "      flag = False\n",
        "      while not flag:\n",
        "        sell_price, flag=validate_price(input(\"Inserire il prezzo di vendita: \"))\n",
        "\n",
        "      flag = False\n",
        "      while not flag:\n",
        "        buy_price, flag=validate_price(input(\"Inserire il prezzo di acquisto: \"))\n",
        "    else:\n",
        "      id_item=[x.name for x in store_list].index(name)\n",
        "      sell_price=store_list[id_item].sell_price\n",
        "      buy_price=store_list[id_item].buy_price\n",
        "\n",
        "    item=Product(name, quantity, sell_price, buy_price)\n",
        "\n",
        "    with open(entries_csv, 'a', newline='') as file:\n",
        "      writer = csv.writer(file)\n",
        "      writer.writerow(item.create_row())\n",
        "\n",
        "    item.print_buying()\n",
        "\n",
        "    flag = False\n",
        "    while not flag:\n",
        "        answer, flag=validate_answer(input(\"Vuoi inserire un altro prodotto? (y/n) \").lower())"
      ],
      "metadata": {
        "id": "52TtJPi3b1K4"
      },
      "outputs": [],
      "execution_count": 12
    },
    {
      "cell_type": "markdown",
      "source": [
        "### Registrare le vendite\n",
        "\n",
        "In modo simile agli acquisti, la registrazione delle vendite avviene tramite i seguenti step:\n",
        "1. Dopo aver inserito il nome e la quantità di prodotto, il programma controlla se il prodotto è disponibile in magazzino e nella giusta quantità e, in caso affermativo, recupera le informazioni sui prezzi;\n",
        "2. La vendita viene inserita alla fine del file e ne viene stampato un riepilogo tramite il metodo **print_selling**;\n",
        "3. Il programma chiede se si vuole aggiungere un'altra vendita e, in caso affermativo, ripete dal passo 1."
      ],
      "metadata": {
        "id": "TqI8YjeQ2CSg"
      }
    },
    {
      "cell_type": "code",
      "source": [
        "def sales():\n",
        "  answer = \"\"\n",
        "  while answer.lower() != \"n\":\n",
        "    name = input(\"Inserire il nome del prodotto: \")\n",
        "    flag = False\n",
        "    while not flag:\n",
        "      quantity, flag=validate_integer(input(\"Inserire la quantità: \"))\n",
        "\n",
        "    store_list=store(to_print=False)\n",
        "    if name not in [x.name for x in store_list]:\n",
        "      print(\"Il prodotto non è presente in magazzino\")\n",
        "    elif store_list[0].quantity<quantity:\n",
        "      print(\"Non c'è disponibilità in magazzino\")\n",
        "    else:\n",
        "      id_item=[x.name for x in store_list].index(name)\n",
        "      sell_price=store_list[id_item].sell_price\n",
        "      buy_price=store_list[id_item].buy_price\n",
        "\n",
        "      item=Product(name, quantity, sell_price, buy_price)\n",
        "\n",
        "      with open(sales_csv, 'a', newline='') as file:\n",
        "        writer = csv.writer(file)\n",
        "        writer.writerow(item.create_row())\n",
        "\n",
        "      item.print_selling()\n",
        "\n",
        "    flag = False\n",
        "    while not flag:\n",
        "        answer, flag=validate_answer(input(\"Vuoi inserire un altro prodotto? (y/n) \").lower())"
      ],
      "metadata": {
        "id": "ms2TF7XjeQoU"
      },
      "outputs": [],
      "execution_count": 13
    },
    {
      "cell_type": "markdown",
      "source": [
        "### Riepilogo di magazzino\n",
        "\n",
        "La funzione **store** si basa sullo stesso principio alla base del calcolo dei saldi dei movimenti bancari. Nello specifico, questa funzione prende in ingresso il parametro booleano *to_print* a cui è assegnato di default il valore True.\n",
        "\n",
        "Premesso questo, la funzione si articola nei seguenti passi:\n",
        "1. Il programma memorizza i dati di entrata e di uscita dal magazzino nella lista *flows*;\n",
        "2. Il programma crea la lista di oggetti Product *store_list* dove, una volta estratti in modo univoco il nome e i prezzi dei prodotti, la quantità viene calcolata come differenza tra la somma degli acquisti e la somma delle vendite;\n",
        "3. Gli elementi di *store_list* vengono salvati in un file CSV;\n",
        "4. Se *to_print* è True, il riepilogo di magazzino viene stampato;\n",
        "5. Il programma ritorna la lista *store_list*.\n",
        "\n",
        "La funzione ha così il duplice scopo di fare da supporto alle registrazioni di vendita e di acquisto e, al contempo, soddisfare una delle funzionalità richieste per il programma."
      ],
      "metadata": {
        "id": "cMUe9nvc9lF5"
      }
    },
    {
      "cell_type": "code",
      "source": [
        "def store(to_print=True):\n",
        "  flows=[]\n",
        "  with open(entries_csv, 'r') as file:\n",
        "    reader = csv.reader(file)\n",
        "    for row in reader:\n",
        "      flows.append(Product(row[0], int(row[1]), float(row[2]), float(row[3])))\n",
        "\n",
        "  with open(sales_csv, 'r') as file:\n",
        "    reader = csv.reader(file)\n",
        "    for row in reader:\n",
        "      flows.append(Product(row[0], -int(row[1]), float(row[2]), float(row[3])))\n",
        "\n",
        "  store_list=[]\n",
        "  for item in flows:\n",
        "    if item.name not in [x.name for x in store_list]:\n",
        "      name=item.name\n",
        "      sell_price=item.sell_price\n",
        "      buy_price=item.buy_price\n",
        "      quantity=0\n",
        "      for x in flows:\n",
        "        if x.name==name:\n",
        "          quantity+=x.quantity\n",
        "      store_list.append(Product(name, quantity, sell_price, buy_price))\n",
        "\n",
        "  with open(store_csv, 'w', newline='') as file:\n",
        "    writer = csv.writer(file)\n",
        "    for item in store_list:\n",
        "      writer.writerow(item.create_row())\n",
        "\n",
        "  if to_print:\n",
        "    print(f\"name \\t quantity \\t sell_price \\t buy_price\")\n",
        "    for item in store_list:\n",
        "      print(item)\n",
        "\n",
        "  return store_list"
      ],
      "metadata": {
        "id": "7LNymMYkfKee"
      },
      "outputs": [],
      "execution_count": 14
    },
    {
      "cell_type": "markdown",
      "source": [
        "## Calcolo dei profitti\n",
        "\n",
        "Utilizzando come supporto la funzione **store**, la funzione **gros_profit** calcola il profitto lordo del magazzino."
      ],
      "metadata": {
        "id": "LVBAm-l5rgF-"
      }
    },
    {
      "cell_type": "code",
      "source": [
        "def gros_profit():\n",
        "  store_list=store(to_print=False)\n",
        "  gross_profit=0\n",
        "  for item in store_list:\n",
        "    gross_profit+=item.sell_total()\n",
        "\n",
        "  print(f\"Il profitto lordo è di € {gross_profit}\")"
      ],
      "metadata": {
        "id": "E2H92QH_rjHF"
      },
      "outputs": [],
      "execution_count": 15
    },
    {
      "cell_type": "markdown",
      "source": [
        "In modo analogo, la funzione **net_profit** calcola il profitto netto come somma delle differenze tra i totali di vendita e di acquisto."
      ],
      "metadata": {
        "id": "my6044EarmB9"
      }
    },
    {
      "cell_type": "code",
      "source": [
        "def net_profit():\n",
        "  store_list=store(to_print=False)\n",
        "  net_profit=0\n",
        "  for item in store_list:\n",
        "    net_profit+=item.sell_total()-item.buy_total()\n",
        "\n",
        "  print(f\"Il profitto netto è di € {net_profit}\")"
      ],
      "metadata": {
        "id": "LeeHG4fkrnoU"
      },
      "outputs": [],
      "execution_count": 16
    },
    {
      "cell_type": "markdown",
      "source": [
        "## Il prototipo finale\n",
        "\n",
        "Le funzioni mostrate nelle sezioni precedenti sono state riunite nella funzione **main**, che agisce come segue:\n",
        "1. Controlla se esistono i file di supporto al programma;\n",
        "2. Prende in ingresso il comando da tastiera e chiama la funzione corrispondente;\n",
        "3. In caso di uscita, il programma risponde con un saluto e chiude."
      ],
      "metadata": {
        "id": "vZorzMPKsIc2"
      }
    },
    {
      "cell_type": "code",
      "source": [
        "def main():\n",
        "  create_file(entries_csv)\n",
        "  create_file(sales_csv)\n",
        "  create_file(store_csv)\n",
        "\n",
        "  command = \"\"\n",
        "  while command.lower() != \"esci\":\n",
        "    command = input(\"Inserisci un comando: \").lower()\n",
        "    if not command in help_dict.keys():\n",
        "      ask_help(command=command)\n",
        "    elif command == \"aiuto\":\n",
        "      ask_help()\n",
        "    elif command == \"registra\":\n",
        "      entries()\n",
        "    elif command == \"vendi\":\n",
        "      sales()\n",
        "    elif command == \"magazzino\":\n",
        "      store()\n",
        "    elif command == \"lordo\":\n",
        "      gros_profit()\n",
        "    elif command == \"netto\":\n",
        "      net_profit()\n",
        "    else:\n",
        "      print(\"Arrivederci!\")\n",
        "      exit()"
      ],
      "metadata": {
        "id": "pqXdItEosMzw"
      },
      "outputs": [],
      "execution_count": 17
    },
    {
      "cell_type": "markdown",
      "source": [
        "Si mostra di seguito un caso di primo utilizzo del programma."
      ],
      "metadata": {
        "id": "Aole_LvPTMcc"
      }
    },
    {
      "cell_type": "code",
      "source": [
        "main()"
      ],
      "metadata": {
        "id": "yAJuNdhJTWdV",
        "outputId": "0a8c7bf7-c7f0-4212-bdf8-9b5c3607081f",
        "colab": {
          "base_uri": "https://localhost:8080/"
        }
      },
      "outputs": [
        {
          "output_type": "stream",
          "name": "stdout",
          "text": [
            "Il file entries.csv è stato creato\n",
            "Il file sales.csv è stato creato\n",
            "Il file store.csv è stato creato\n",
            "Inserisci un comando: aiuto\n",
            "Questi sono i comandi che puoi utilizzare\n",
            "aiuto = Spiega i comandi che puoi usare\n",
            "registra = Registra i nuovi arrivi in magazzino\n",
            "vendi = Registra le nuove vendite\n",
            "magazzino = Riepiloga le disponibilità di magazzino\n",
            "lordo = Mostra i profitti lordi\n",
            "netto = Mostra i profitti netti\n",
            "esci = Chiude il programma\n",
            "Inserisci un comando: registra\n",
            "Inserire il nome del prodotto: latte di soia\n",
            "Inserire una quantità: 10\n",
            "Inserire il prezzo di vendita: 2.99\n",
            "Inserire il prezzo di acquisto: 1.99\n",
            "latte di soia X 10 = € 19.9\n",
            "Vuoi inserire un altro prodotto? (y/n) y\n",
            "Inserire il nome del prodotto: burger di tofu\n",
            "Inserire una quantità: 20\n",
            "Inserire il prezzo di vendita: 4.49\n",
            "Inserire il prezzo di acquisto: 2.99\n",
            "burger di tofu X 20 = € 59.800000000000004\n",
            "Vuoi inserire un altro prodotto? (y/n) no\n",
            "La risposta inserita non è valida, riprova.\n",
            "Vuoi inserire un altro prodotto? (y/n) n\n",
            "Inserisci un comando: vendi\n",
            "Inserire il nome del prodotto: latte di soia\n",
            "Inserire la quantità: 5\n",
            "latte di soia X 5 = € 14.950000000000001\n",
            "Vuoi inserire un altro prodotto? (y/n) y\n",
            "Inserire il nome del prodotto: burger di patate\n",
            "Inserire la quantità: 2\n",
            "Il prodotto non è presente in magazzino\n",
            "Vuoi inserire un altro prodotto? (y/n) y\n",
            "Inserire il nome del prodotto: burger di tofu\n",
            "Inserire la quantità: 15\n",
            "Non c'è disponibilità in magazzino\n",
            "Vuoi inserire un altro prodotto? (y/n) n\n",
            "Inserisci un comando: aiut\n",
            "Comando non riconosciuto\n",
            "Questi sono i comandi che puoi utilizzare\n",
            "aiuto = Spiega i comandi che puoi usare\n",
            "registra = Registra i nuovi arrivi in magazzino\n",
            "vendi = Registra le nuove vendite\n",
            "magazzino = Riepiloga le disponibilità di magazzino\n",
            "lordo = Mostra i profitti lordi\n",
            "netto = Mostra i profitti netti\n",
            "esci = Chiude il programma\n",
            "Inserisci un comando: aiuto\n",
            "Questi sono i comandi che puoi utilizzare\n",
            "aiuto = Spiega i comandi che puoi usare\n",
            "registra = Registra i nuovi arrivi in magazzino\n",
            "vendi = Registra le nuove vendite\n",
            "magazzino = Riepiloga le disponibilità di magazzino\n",
            "lordo = Mostra i profitti lordi\n",
            "netto = Mostra i profitti netti\n",
            "esci = Chiude il programma\n",
            "Inserisci un comando: magazzino\n",
            "name \t quantity \t sell_price \t buy_price\n",
            "latte di soia\t5\t2.99\t1.99\n",
            "\n",
            "burger di tofu\t20\t4.49\t2.99\n",
            "\n",
            "Inserisci un comando: lordo\n",
            "Il profitto lordo è di € 104.75000000000001\n",
            "Inserisci un comando: netto\n",
            "Il profitto netto è di € 35.00000000000001\n",
            "Inserisci un comando: esci\n",
            "Arrivederci!\n"
          ]
        }
      ],
      "execution_count": 18
    },
    {
      "cell_type": "markdown",
      "source": [
        "## Conclusione\n",
        "\n",
        "In questo notebook è stato mostrato lo sviluppo di un software gestionale per il magazzino di un negozio di prodotti vegani a partire da determinati requisiti.\n",
        "\n",
        "Nella prima sezione è stato mostrato il menu di aiuto per guidare l'utente nell'utilizzo del programma e validare i comandi inseriti da tastiera.\n",
        "\n",
        "Nella seconda sezione, dopo aver mostrato l'oggetto Product e alcune funzioni di supporto al programma, è stata illustrata la gestione degli ingressi (acquisti), delle uscite (vendite) e dei riepiloghi di magazzino.\n",
        "\n",
        "Nella terza parte, utilizzando i metodi definiti in Product, è stato mostrato il calcolo dei profitti lordi e netti.\n",
        "\n",
        "Nell'ultima sezione, invece, le funzioni viste sono state incorporate nella funzione **main** ed è stato mostrato un caso di utilizzo."
      ],
      "metadata": {
        "id": "itKLWu75s_gC"
      }
    }
  ]
}