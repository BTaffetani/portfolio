{
 "cells": [
  {
   "cell_type": "markdown",
   "metadata": {
    "application/vnd.databricks.v1+cell": {
     "cellMetadata": {
      "byteLimit": 2048000,
      "rowLimit": 10000
     },
     "inputWidgets": {},
     "nuid": "dd9e6a99-f905-4390-ab58-9db0d4c7201a",
     "showTitle": false,
     "tableResultSettingsMap": {},
     "title": ""
    }
   },
   "source": [
    "# Analisi del consenso sui Bitcoin\n",
    "\n",
    "Su richiesta di un'azienda di ricerche di mercato, si è svolta un'analisi del consenso sui Bitcoin a partire da un dataset di tweet sull'argomento. I risultati dell'analisi sono riportati in questo notebook, che ne segue le varie fasi dalla preparazione dei dati fino ai principali risultati.\n",
    "\n",
    "Nella prima sezione saranno mostrate l'importazione dei dati forniti dall'azienda e la loro preparazione per l'analisi. Dopo una sezione dedicata a una panoramica sul dataset ottenuto, è stato analizzato il sentiment dal punto di vista temporale e dal punto di vista delle reazioni ai tweet."
   ]
  },
  {
   "cell_type": "markdown",
   "metadata": {
    "application/vnd.databricks.v1+cell": {
     "cellMetadata": {
      "byteLimit": 2048000,
      "rowLimit": 10000
     },
     "inputWidgets": {},
     "nuid": "0cf95ab3-00d8-4446-b7de-81d79c0e368f",
     "showTitle": false,
     "tableResultSettingsMap": {},
     "title": ""
    }
   },
   "source": [
    "## Importazione e preparazione dei dati\n",
    "\n",
    "Questa sezione è dedicata all'importazione e alla preparazione dei dati per l'analisi.\n",
    "\n",
    "Si inizierà con la preparazione del dataset relativo ai tweet, successivamente si elaboreranno i dati sui prezzi del bitcoin e in ultima analisi si uniranno i dataset ottenuti."
   ]
  },
  {
   "cell_type": "markdown",
   "metadata": {
    "application/vnd.databricks.v1+cell": {
     "cellMetadata": {
      "byteLimit": 2048000,
      "rowLimit": 10000
     },
     "inputWidgets": {},
     "nuid": "b0dab1e1-d3c2-4be0-b6e0-88467cdda78c",
     "showTitle": false,
     "tableResultSettingsMap": {},
     "title": ""
    }
   },
   "source": [
    "### Il dataset *bitcoin_tweets*\n",
    "\n",
    "In questa prima sezione saranno importati e preparati i dati relativi ai tweet sui Bitcoin, forniti dall'azienda tramite un file CSV [a questo link](https://proai-datasets.s3.eu-west-3.amazonaws.com/bitcoin_tweets.csv).\n",
    "\n",
    "Dopo aver scaricato il dataset, è stato stampato l'elenco delle colonne."
   ]
  },
  {
   "cell_type": "code",
   "execution_count": 0,
   "metadata": {
    "application/vnd.databricks.v1+cell": {
     "cellMetadata": {
      "byteLimit": 2048000,
      "rowLimit": 10000
     },
     "inputWidgets": {},
     "nuid": "6fc80274-4e63-40f5-9939-e2b0f76aa657",
     "showTitle": false,
     "tableResultSettingsMap": {},
     "title": ""
    }
   },
   "outputs": [],
   "source": [
    "import pandas as pd\n",
    "\n",
    "df = spark.createDataFrame(pd.read_csv(\"https://proai-datasets.s3.eu-west-3.amazonaws.com/bitcoin_tweets.csv\",delimiter=\",\"))\n",
    "df.printSchema()"
   ]
  },
  {
   "cell_type": "markdown",
   "metadata": {
    "application/vnd.databricks.v1+cell": {
     "cellMetadata": {
      "byteLimit": 2048000,
      "rowLimit": 10000
     },
     "inputWidgets": {},
     "nuid": "0267642c-c490-4ca5-b38d-2bafcf86fe1e",
     "showTitle": false,
     "tableResultSettingsMap": {},
     "title": ""
    }
   },
   "source": [
    "Delle colonne mostrate, si è deciso di mantenere le seguenti:\n",
    "- La colonna *timestamp*, che riporta la data e l'ora del tweet;\n",
    "- La colonna *text* contenente il testo del tweet;\n",
    "- Le colonne *replies*, *likes* e *retweets* che contengono rispettivamente le risposte, i \"mi piace\" e le condivisioni ottenute dal tweet."
   ]
  },
  {
   "cell_type": "code",
   "execution_count": 0,
   "metadata": {
    "application/vnd.databricks.v1+cell": {
     "cellMetadata": {
      "byteLimit": 2048000,
      "rowLimit": 10000
     },
     "inputWidgets": {},
     "nuid": "e6ea28f3-4cb2-4fa5-9f05-fdeb57039c47",
     "showTitle": false,
     "tableResultSettingsMap": {},
     "title": ""
    }
   },
   "outputs": [],
   "source": [
    "df=df.select(\"timestamp\",\"text\",\"replies\",\"likes\",\"retweets\")\n",
    "display(df)"
   ]
  },
  {
   "cell_type": "markdown",
   "metadata": {
    "application/vnd.databricks.v1+cell": {
     "cellMetadata": {
      "byteLimit": 2048000,
      "rowLimit": 10000
     },
     "inputWidgets": {},
     "nuid": "2da0e1a9-02a4-49b7-8471-c302c24d52f7",
     "showTitle": false,
     "tableResultSettingsMap": {},
     "title": ""
    }
   },
   "source": [
    "Dalla colonna *timestamp* sono state calcolate le colonne *date* e *time*, che riportano la data e l'ora del tweet."
   ]
  },
  {
   "cell_type": "code",
   "execution_count": 0,
   "metadata": {
    "application/vnd.databricks.v1+cell": {
     "cellMetadata": {
      "byteLimit": 2048000,
      "rowLimit": 10000
     },
     "inputWidgets": {},
     "nuid": "f8e7d06b-66f0-4d07-b1d9-20be125476c4",
     "showTitle": false,
     "tableResultSettingsMap": {},
     "title": ""
    }
   },
   "outputs": [],
   "source": [
    "from pyspark.sql.functions import to_date, date_format\n",
    "\n",
    "df=df.withColumn(\"date\",to_date(df.timestamp))\n",
    "df=df.withColumn(\"time\",date_format(df.timestamp,\"HH:mm\"))\n",
    "display(df)"
   ]
  },
  {
   "cell_type": "markdown",
   "metadata": {
    "application/vnd.databricks.v1+cell": {
     "cellMetadata": {
      "byteLimit": 2048000,
      "rowLimit": 10000
     },
     "inputWidgets": {},
     "nuid": "e86dffe2-0b7f-4c7c-8054-bb72ccf84418",
     "showTitle": false,
     "tableResultSettingsMap": {},
     "title": ""
    }
   },
   "source": [
    "Dalla colonna *time*, in particolare, è stata ottenuta la colonna *time_slot* contenente la fascia oraria di pubblicazione del tweet, partendo dal presupposto che l'orario indicato sia relativo al fuso orario di Washington D.C."
   ]
  },
  {
   "cell_type": "code",
   "execution_count": 0,
   "metadata": {
    "application/vnd.databricks.v1+cell": {
     "cellMetadata": {
      "byteLimit": 2048000,
      "rowLimit": 10000
     },
     "inputWidgets": {},
     "nuid": "284b61e7-88c7-4ddf-95e6-451495667ba4",
     "showTitle": false,
     "tableResultSettingsMap": {},
     "title": ""
    }
   },
   "outputs": [],
   "source": [
    "def get_time_slot(time):\n",
    "    time_slot=int(time.split(\":\")[0])\n",
    "    return f\"{time_slot}-{time_slot+1}\"\n",
    "\n",
    "df=df.withColumn(\"time_slot\",udf(get_time_slot)(df.time))\n",
    "display(df)"
   ]
  },
  {
   "cell_type": "markdown",
   "metadata": {
    "application/vnd.databricks.v1+cell": {
     "cellMetadata": {
      "byteLimit": 2048000,
      "rowLimit": 10000
     },
     "inputWidgets": {},
     "nuid": "f4c8a250-e6f5-4108-85f1-78eb29017d4a",
     "showTitle": false,
     "tableResultSettingsMap": {},
     "title": ""
    }
   },
   "source": [
    "Per quanto riguarda il sentiment, si è deciso di ricorrere a un modello già pronto per stimarlo dai testi dei tweet. Per fare questo è stata installata la libreria TextBlob, che esegue operazioni di Natural Language Processing."
   ]
  },
  {
   "cell_type": "code",
   "execution_count": 0,
   "metadata": {
    "application/vnd.databricks.v1+cell": {
     "cellMetadata": {
      "byteLimit": 2048000,
      "rowLimit": 10000
     },
     "inputWidgets": {},
     "nuid": "007c3655-b86e-492d-970e-a417a60977f9",
     "showTitle": false,
     "tableResultSettingsMap": {},
     "title": ""
    }
   },
   "outputs": [],
   "source": [
    "!pip install textblob"
   ]
  },
  {
   "cell_type": "code",
   "execution_count": 0,
   "metadata": {
    "application/vnd.databricks.v1+cell": {
     "cellMetadata": {
      "byteLimit": 2048000,
      "rowLimit": 10000
     },
     "inputWidgets": {},
     "nuid": "4839ad93-0332-478e-88f5-1c30eeae9759",
     "showTitle": false,
     "tableResultSettingsMap": {},
     "title": ""
    }
   },
   "outputs": [],
   "source": [
    "%restart_python"
   ]
  },
  {
   "cell_type": "markdown",
   "metadata": {
    "application/vnd.databricks.v1+cell": {
     "cellMetadata": {
      "byteLimit": 2048000,
      "rowLimit": 10000
     },
     "inputWidgets": {},
     "nuid": "886ab53a-d873-4a48-9bb3-98b0c8a00b89",
     "showTitle": false,
     "tableResultSettingsMap": {},
     "title": ""
    }
   },
   "source": [
    "Utilizzando la funzione *get_sentiment*, è stata calcolata la colonna *sentiment* che assegna a ogni valore della colonna *text* un sentimento positivo, negativo o neutro."
   ]
  },
  {
   "cell_type": "code",
   "execution_count": 0,
   "metadata": {
    "application/vnd.databricks.v1+cell": {
     "cellMetadata": {
      "byteLimit": 2048000,
      "rowLimit": 10000
     },
     "inputWidgets": {},
     "nuid": "e541eac5-bbe8-420d-8177-5f2823a0d3c8",
     "showTitle": false,
     "tableResultSettingsMap": {},
     "title": ""
    }
   },
   "outputs": [],
   "source": [
    "from textblob import TextBlob\n",
    "\n",
    "def get_sentiment(text):\n",
    "    result=TextBlob(text)\n",
    "    if result.sentiment.polarity<0:\n",
    "        return \"negative\"\n",
    "    elif result.sentiment.polarity==0:\n",
    "        return \"neutral\"\n",
    "    else:\n",
    "        return \"positive\"\n",
    "    \n",
    "df=df.withColumn(\"sentiment\",udf(get_sentiment)(df.text))\n",
    "display(df)"
   ]
  },
  {
   "cell_type": "markdown",
   "metadata": {
    "application/vnd.databricks.v1+cell": {
     "cellMetadata": {
      "byteLimit": 2048000,
      "rowLimit": 10000
     },
     "inputWidgets": {},
     "nuid": "d95aaa2f-0482-4e98-bb2b-24fa0d706386",
     "showTitle": false,
     "tableResultSettingsMap": {},
     "title": ""
    }
   },
   "source": [
    "Infine, sommando i valori nelle colonne *likes*, *replies* e *retweets*, è stata ottenuta la colonna *reactions* che conta le reazioni totali al tweet."
   ]
  },
  {
   "cell_type": "code",
   "execution_count": 0,
   "metadata": {
    "application/vnd.databricks.v1+cell": {
     "cellMetadata": {
      "byteLimit": 2048000,
      "rowLimit": 10000
     },
     "inputWidgets": {},
     "nuid": "e2741757-d69a-44d2-826c-de05cdab17d1",
     "showTitle": false,
     "tableResultSettingsMap": {},
     "title": ""
    }
   },
   "outputs": [],
   "source": [
    "df=df.withColumn(\"reactions\",df.likes+df.replies+df.retweets)\n",
    "display(df)"
   ]
  },
  {
   "cell_type": "markdown",
   "metadata": {
    "application/vnd.databricks.v1+cell": {
     "cellMetadata": {
      "byteLimit": 2048000,
      "rowLimit": 10000
     },
     "inputWidgets": {},
     "nuid": "751639f0-3ac4-46f4-894e-5f8f1cb8852c",
     "showTitle": false,
     "tableResultSettingsMap": {},
     "title": ""
    }
   },
   "source": [
    "Il dataset ottenuto finora è stato salvato come tabella in modo da poter essere ripreso nell'ultima parte di questa \n",
    "sezione."
   ]
  },
  {
   "cell_type": "code",
   "execution_count": 0,
   "metadata": {
    "application/vnd.databricks.v1+cell": {
     "cellMetadata": {
      "byteLimit": 2048000,
      "rowLimit": 10000
     },
     "inputWidgets": {},
     "nuid": "46ffb5af-049e-4a5a-bc2c-e3c564c4db00",
     "showTitle": false,
     "tableResultSettingsMap": {},
     "title": ""
    }
   },
   "outputs": [],
   "source": [
    "df.write.mode(\"overwrite\").option(\"overwriteSchema\",\"true\").saveAsTable(\"default.bitcoin_tweets\")"
   ]
  },
  {
   "cell_type": "markdown",
   "metadata": {
    "application/vnd.databricks.v1+cell": {
     "cellMetadata": {
      "byteLimit": 2048000,
      "rowLimit": 10000
     },
     "inputWidgets": {},
     "nuid": "59b897e5-e678-48a9-8ddd-41425554f73f",
     "showTitle": false,
     "tableResultSettingsMap": {},
     "title": ""
    }
   },
   "source": [
    "### Il dataset *btc_usd*\n",
    "\n",
    "In questa sottosezione si prepareranno i dati relativi allo storico dei prezzi dei Bitcoin, ottenuti tramite file CSV scaricato [da questo link](https://finance.yahoo.com/quote/BTC-USD/history/).\n",
    "\n",
    "Dopo aver importato i dati nel Catalogo di Databricks, la tabella è stata importata tramite una query SQL ed è stato stampato l'elenco delle colonne."
   ]
  },
  {
   "cell_type": "code",
   "execution_count": 0,
   "metadata": {
    "application/vnd.databricks.v1+cell": {
     "cellMetadata": {
      "byteLimit": 2048000,
      "rowLimit": 10000
     },
     "inputWidgets": {},
     "nuid": "47f9326c-b17d-4642-800f-a27d30d2e634",
     "showTitle": false,
     "tableResultSettingsMap": {},
     "title": ""
    }
   },
   "outputs": [],
   "source": [
    "btc_df=spark.sql(\"select date, open_price, close_price from default.btc_usd\")\n",
    "btc_df.printSchema()"
   ]
  },
  {
   "cell_type": "markdown",
   "metadata": {
    "application/vnd.databricks.v1+cell": {
     "cellMetadata": {
      "byteLimit": 2048000,
      "rowLimit": 10000
     },
     "inputWidgets": {},
     "nuid": "ca3eec66-6aa4-4f80-91ef-7ed36195c4e1",
     "showTitle": false,
     "tableResultSettingsMap": {},
     "title": ""
    }
   },
   "source": [
    "Nella tabella importata in questo notebook troviamo le seguenti colonne:\n",
    "- La colonna *date* riporta la data dell'osservazione sui prezzi;\n",
    "- La colonna *open_price* indica il prezzo all'apertura delle borse;\n",
    "- La colonna *close_price* indica il prezzo alla chiusura delle borse.\n",
    "\n",
    "Dalle ultime due colonne è stata calcolata la colonna *mean_price*, che indica il prezzo medio dei Bitcoin. Per semplicità, si è posto che il prezzo medio sia dato dalla media aritmetica dei prezzi di apertura e chiusura."
   ]
  },
  {
   "cell_type": "code",
   "execution_count": 0,
   "metadata": {
    "application/vnd.databricks.v1+cell": {
     "cellMetadata": {
      "byteLimit": 2048000,
      "rowLimit": 10000
     },
     "inputWidgets": {},
     "nuid": "b10a0991-865c-42c9-b635-809b34348eee",
     "showTitle": false,
     "tableResultSettingsMap": {},
     "title": ""
    }
   },
   "outputs": [],
   "source": [
    "btc_df=btc_df.withColumn(\"mean_price\",(btc_df.open_price+btc_df.close_price)/2)\n",
    "display(btc_df)"
   ]
  },
  {
   "cell_type": "markdown",
   "metadata": {
    "application/vnd.databricks.v1+cell": {
     "cellMetadata": {
      "byteLimit": 2048000,
      "rowLimit": 10000
     },
     "inputWidgets": {},
     "nuid": "1a6c9489-299e-4bac-8aec-83a0393c23e9",
     "showTitle": false,
     "tableResultSettingsMap": {},
     "title": ""
    }
   },
   "source": [
    "Per facilitare le operazioni nella parte finale di questa sezione, la tabella appena ottenuta è stata salvata come *bitcoin_usd*."
   ]
  },
  {
   "cell_type": "code",
   "execution_count": 0,
   "metadata": {
    "application/vnd.databricks.v1+cell": {
     "cellMetadata": {
      "byteLimit": 2048000,
      "rowLimit": 10000
     },
     "inputWidgets": {},
     "nuid": "2338e184-60ad-49d0-a9b0-4584774aacb1",
     "showTitle": false,
     "tableResultSettingsMap": {},
     "title": ""
    }
   },
   "outputs": [],
   "source": [
    "btc_df.write.mode(\"overwrite\").option(\"overwriteSchema\",\"true\").saveAsTable(\"default.bitcoin_usd\")"
   ]
  },
  {
   "cell_type": "markdown",
   "metadata": {
    "application/vnd.databricks.v1+cell": {
     "cellMetadata": {
      "byteLimit": 2048000,
      "rowLimit": 10000
     },
     "inputWidgets": {},
     "nuid": "e1d53aa9-434d-435d-b71f-998a96c8e6d8",
     "showTitle": false,
     "tableResultSettingsMap": {},
     "title": ""
    }
   },
   "source": [
    "### Il dataset *project_data*\n",
    "\n",
    "In questa ultima sottosezione sono state unite le tabelle ottenute in precedenza e sono stati filtrati i dati su cui si svolgerà l'analisi.\n",
    "\n",
    "Per iniziare, tramite una query SQL, è stata effettuata una left join sulle tabelle *bitcoin_tweets* e *bitcoin_usd* e sono stati mostrati i soli record dove è presente il valore del prezzo medio."
   ]
  },
  {
   "cell_type": "code",
   "execution_count": 0,
   "metadata": {
    "application/vnd.databricks.v1+cell": {
     "cellMetadata": {
      "byteLimit": 2048000,
      "implicitDf": true,
      "rowLimit": 10000
     },
     "inputWidgets": {},
     "nuid": "f7da7d92-6ebb-4702-9141-70df03f9a4ef",
     "showTitle": false,
     "tableResultSettingsMap": {},
     "title": ""
    }
   },
   "outputs": [],
   "source": [
    "df=spark.sql(\"\"\"\n",
    "             select tweets.*, usd.open_price, usd.close_price, usd.mean_price\n",
    "             from default.bitcoin_tweets tweets\n",
    "             left join default.bitcoin_usd usd\n",
    "             on tweets.`date`=usd.`date`\n",
    "             where usd.mean_price is not null\n",
    "             \"\"\")\n",
    "df.printSchema()"
   ]
  },
  {
   "cell_type": "markdown",
   "metadata": {
    "application/vnd.databricks.v1+cell": {
     "cellMetadata": {
      "byteLimit": 2048000,
      "rowLimit": 10000
     },
     "inputWidgets": {},
     "nuid": "92da5e06-1c07-4c73-8fe0-f93b605c7443",
     "showTitle": false,
     "tableResultSettingsMap": {},
     "title": ""
    }
   },
   "source": [
    "Delle colonne sopra riportate si è deciso di mantenere le seguenti:\n",
    "- Le colonne *date* e *time_slot* con la data e la fascia oraria del tweet;\n",
    "- La colonna *sentiment* con il sentimento positivo, negativo o neutro del tweet;\n",
    "- Le colonne *likes*, *replies*, *retweets* e *reactions* con le reazioni al tweet;\n",
    "- Le colonne *open_price*, *close_price* e *mean_price* con i prezzi di apertura, chiusura e medio nel giorno del tweet.\n",
    "\n",
    "Tramite la funzione display, si è scaricata una copia della tabella tramite file CSV."
   ]
  },
  {
   "cell_type": "code",
   "execution_count": 0,
   "metadata": {
    "application/vnd.databricks.v1+cell": {
     "cellMetadata": {
      "byteLimit": 2048000,
      "rowLimit": 10000
     },
     "inputWidgets": {},
     "nuid": "00933f2e-77ad-468d-bbb9-1826fecddb1d",
     "showTitle": false,
     "tableResultSettingsMap": {},
     "title": ""
    }
   },
   "outputs": [],
   "source": [
    "df=df.select(\"date\",\"time_slot\",\"sentiment\",\"likes\",\"replies\",\"retweets\",\"reactions\",\"open_price\",\"close_price\",\"mean_price\")\n",
    "display(df)"
   ]
  },
  {
   "cell_type": "markdown",
   "metadata": {
    "application/vnd.databricks.v1+cell": {
     "cellMetadata": {
      "byteLimit": 2048000,
      "rowLimit": 10000
     },
     "inputWidgets": {},
     "nuid": "c646591a-0ff6-4152-9802-a9d0bf73d873",
     "showTitle": false,
     "tableResultSettingsMap": {},
     "title": ""
    }
   },
   "source": [
    "Oltre al file CSV, i dati sono stati salvati nella tabella *project_data* nel Catalog di Databricks. Nelle prossime sezioni, le analisi saranno svolte a partire da questi dati."
   ]
  },
  {
   "cell_type": "code",
   "execution_count": 0,
   "metadata": {
    "application/vnd.databricks.v1+cell": {
     "cellMetadata": {
      "byteLimit": 2048000,
      "rowLimit": 10000
     },
     "inputWidgets": {},
     "nuid": "83f5269c-8c10-4443-bab6-0ac11d99edc4",
     "showTitle": false,
     "tableResultSettingsMap": {},
     "title": ""
    }
   },
   "outputs": [],
   "source": [
    "df.write.mode(\"overwrite\").option(\"overwriteSchema\",\"true\").saveAsTable(\"default.project_data\")"
   ]
  },
  {
   "cell_type": "markdown",
   "metadata": {
    "application/vnd.databricks.v1+cell": {
     "cellMetadata": {
      "byteLimit": 2048000,
      "rowLimit": 10000
     },
     "inputWidgets": {},
     "nuid": "dbd3164f-9ccf-4ec8-b64a-8495fe1923e6",
     "showTitle": false,
     "tableResultSettingsMap": {},
     "title": ""
    }
   },
   "source": [
    "## Panoramica generale\n",
    "\n",
    "In questa sezione si offrirà una panoramica generale del dataset ottenuto nella sezione precedente e di seguito importato."
   ]
  },
  {
   "cell_type": "code",
   "execution_count": 0,
   "metadata": {
    "application/vnd.databricks.v1+cell": {
     "cellMetadata": {
      "byteLimit": 2048000,
      "rowLimit": 10000
     },
     "inputWidgets": {},
     "nuid": "5adae619-a121-4e5b-9a63-9dda9761fd00",
     "showTitle": false,
     "tableResultSettingsMap": {},
     "title": ""
    }
   },
   "outputs": [],
   "source": [
    "df=spark.sql(\"select * from default.project_data\")\n",
    "df.printSchema()"
   ]
  },
  {
   "cell_type": "markdown",
   "metadata": {
    "application/vnd.databricks.v1+cell": {
     "cellMetadata": {
      "byteLimit": 2048000,
      "rowLimit": 10000
     },
     "inputWidgets": {},
     "nuid": "f64c58e5-8880-4ef4-989f-5c7302b5325a",
     "showTitle": false,
     "tableResultSettingsMap": {},
     "title": ""
    }
   },
   "source": [
    "Di seguito si mostrerà il conteggio dei record che, ricordiamo, corrisponde al numero di tweet osservati."
   ]
  },
  {
   "cell_type": "code",
   "execution_count": 0,
   "metadata": {
    "application/vnd.databricks.v1+cell": {
     "cellMetadata": {
      "byteLimit": 2048000,
      "rowLimit": 10000
     },
     "inputWidgets": {},
     "nuid": "a7988a10-7c17-402b-aa02-cfe5c67fa02a",
     "showTitle": false,
     "tableResultSettingsMap": {},
     "title": ""
    }
   },
   "outputs": [],
   "source": [
    "df.count()"
   ]
  },
  {
   "cell_type": "markdown",
   "metadata": {
    "application/vnd.databricks.v1+cell": {
     "cellMetadata": {
      "byteLimit": 2048000,
      "rowLimit": 10000
     },
     "inputWidgets": {},
     "nuid": "0b1427b5-7094-401b-b250-855739d5b800",
     "showTitle": false,
     "tableResultSettingsMap": {},
     "title": ""
    }
   },
   "source": [
    "Il dataset è costituito da poco meno di un milione di tweet. Ricordiamo che il numero ridotto di record è dovuto al filtro dei dati ottenuto tramite la tabella *btc_usd*, in quanto si è deciso di mantenere solo i tweet per cui era presente il prezzo medio.\n",
    "\n",
    "Il grafico di seguito ottenuto mostra l'andamento del prezzo medio nel tempo."
   ]
  },
  {
   "cell_type": "code",
   "execution_count": 0,
   "metadata": {
    "application/vnd.databricks.v1+cell": {
     "cellMetadata": {
      "byteLimit": 2048000,
      "rowLimit": 10000
     },
     "inputWidgets": {},
     "nuid": "19045a22-d648-4472-8948-a536ad33a48e",
     "showTitle": false,
     "tableResultSettingsMap": {},
     "title": ""
    }
   },
   "outputs": [],
   "source": [
    "display(df.groupBy(\"date\").mean(\"mean_price\"))"
   ]
  },
  {
   "cell_type": "markdown",
   "metadata": {
    "application/vnd.databricks.v1+cell": {
     "cellMetadata": {
      "byteLimit": 2048000,
      "rowLimit": 10000
     },
     "inputWidgets": {},
     "nuid": "afed0ebb-1662-43ab-a278-46e1df467248",
     "showTitle": false,
     "tableResultSettingsMap": {},
     "title": ""
    }
   },
   "source": [
    "Osserviamo una crescita esponenziale del prezzo del Bitcoin fino a dicembre 2017, seguito da un calo fino al minimo del prezzo raggiunto tra dicembre 2018 e marzo 2019.\n",
    "\n",
    "In modo analogo, è stato tracciato un grafico che mostra il numero di tweet nel tempo. Per facilitare la lettura del grafico, si è deciso di utilizzare una scala logaritmica."
   ]
  },
  {
   "cell_type": "code",
   "execution_count": 0,
   "metadata": {
    "application/vnd.databricks.v1+cell": {
     "cellMetadata": {
      "byteLimit": 2048000,
      "rowLimit": 10000
     },
     "inputWidgets": {},
     "nuid": "94fa1bdf-441e-4b53-9656-ac1f05566df9",
     "showTitle": false,
     "tableResultSettingsMap": {},
     "title": ""
    }
   },
   "outputs": [],
   "source": [
    "display(df.groupBy(\"date\").count())"
   ]
  },
  {
   "cell_type": "markdown",
   "metadata": {
    "application/vnd.databricks.v1+cell": {
     "cellMetadata": {
      "byteLimit": 2048000,
      "rowLimit": 10000
     },
     "inputWidgets": {},
     "nuid": "8cd24650-24fc-477f-badf-0b86dd447169",
     "showTitle": false,
     "tableResultSettingsMap": {},
     "title": ""
    }
   },
   "source": [
    "Si osserva che la crescita effettiva del numero di tweet è iniziata dopo il 2017 e che si è raggiunto un picco nel maggio 2019, in corrispondenza alla risalita del prezzo nel grafico a linee precedente. La relazione tra queste variabili sarà esplorata nella sezione dedicata alla panoramica temporale.\n",
    "\n",
    "Il grafico a barre seguente mostra la media del numero di tweet per fascia oraria."
   ]
  },
  {
   "cell_type": "code",
   "execution_count": 0,
   "metadata": {
    "application/vnd.databricks.v1+cell": {
     "cellMetadata": {
      "byteLimit": 2048000,
      "rowLimit": 10000
     },
     "inputWidgets": {},
     "nuid": "b7465af8-e95e-4279-8efa-c4b6a52f0ca8",
     "showTitle": false,
     "tableResultSettingsMap": {},
     "title": ""
    }
   },
   "outputs": [],
   "source": [
    "display(df.groupBy(\"date\",\"time_slot\").count().groupBy(\"time_slot\").mean())"
   ]
  },
  {
   "cell_type": "markdown",
   "metadata": {
    "application/vnd.databricks.v1+cell": {
     "cellMetadata": {
      "byteLimit": 2048000,
      "rowLimit": 10000
     },
     "inputWidgets": {},
     "nuid": "85ed6b3b-0b91-44d2-b8a1-429d085529de",
     "showTitle": false,
     "tableResultSettingsMap": {},
     "title": ""
    }
   },
   "source": [
    "In media, il maggior numero di tweet viene pubblicato tra le 11 e 12, in corrispondenza della metà della giornata di operazioni in borsa, mentre il minore numero viene pubblicato tra le 19 e le 20, ossia dopo la chiusura dele borse.\n",
    "\n",
    "Per quanto riguarda le reazioni ai tweet, di seguito si mostra una tabella in cui è stato calcolato il numero delle reazioni medie, che si aggira tra le 10 e le 11. Il dettaglio sulle reazioni ai tweet sarà esplorato nell'ultima sezione del notebook."
   ]
  },
  {
   "cell_type": "code",
   "execution_count": 0,
   "metadata": {
    "application/vnd.databricks.v1+cell": {
     "cellMetadata": {
      "byteLimit": 2048000,
      "rowLimit": 10000
     },
     "inputWidgets": {},
     "nuid": "b8fea63b-3012-4a4f-8517-6c25bcd08bd8",
     "showTitle": false,
     "tableResultSettingsMap": {},
     "title": ""
    }
   },
   "outputs": [],
   "source": [
    "display(df.select(\"reactions\").groupBy().mean())"
   ]
  },
  {
   "cell_type": "markdown",
   "metadata": {
    "application/vnd.databricks.v1+cell": {
     "cellMetadata": {
      "byteLimit": 2048000,
      "rowLimit": 10000
     },
     "inputWidgets": {},
     "nuid": "99d3af58-0fd1-4c80-9a10-6936b946c342",
     "showTitle": false,
     "tableResultSettingsMap": {},
     "title": ""
    }
   },
   "source": [
    "Infine, mostriamo la composizione del dataset in base al sentiment dei tweet."
   ]
  },
  {
   "cell_type": "code",
   "execution_count": 0,
   "metadata": {
    "application/vnd.databricks.v1+cell": {
     "cellMetadata": {
      "byteLimit": 2048000,
      "rowLimit": 10000
     },
     "inputWidgets": {},
     "nuid": "a734f2d6-df61-4f77-b850-b9b8cdc13a93",
     "showTitle": false,
     "tableResultSettingsMap": {},
     "title": ""
    }
   },
   "outputs": [],
   "source": [
    "display(df.groupBy(\"sentiment\").count())"
   ]
  },
  {
   "cell_type": "markdown",
   "metadata": {
    "application/vnd.databricks.v1+cell": {
     "cellMetadata": {},
     "inputWidgets": {},
     "nuid": "5bb5ecdb-3527-4338-8579-2c51d878b5be",
     "showTitle": false,
     "tableResultSettingsMap": {},
     "title": ""
    }
   },
   "source": [
    "Osserviamo che la maggioranza dei tweet ha un sentimento neutrale, probabilmente dovuto a una natura informativa o dimostrativa del tweet, mentre nel resto dei dati prevale un sentimento di tipo positivo."
   ]
  },
  {
   "cell_type": "markdown",
   "metadata": {
    "application/vnd.databricks.v1+cell": {
     "cellMetadata": {},
     "inputWidgets": {},
     "nuid": "06da23e1-743c-4adc-a92b-d231aaa47918",
     "showTitle": false,
     "tableResultSettingsMap": {},
     "title": ""
    }
   },
   "source": [
    "## Panoramica storica\n",
    "\n",
    "In questa sezione si analizzerà la relazione tra il sentiment e il prezzo in funzione del tempo. Si premette che, dato il diverso ordine di grandezza di queste variabili, si è scelto di utilizzare una scala logaritmica per agevolare la lettura del grafico.\n",
    "\n",
    "Il grafico sottostante mostra l'andamento del numero di tweet (in blu) e del prezzo medio (in verde chiaro) in funzione dei mesi."
   ]
  },
  {
   "cell_type": "code",
   "execution_count": 0,
   "metadata": {
    "application/vnd.databricks.v1+cell": {
     "cellMetadata": {
      "byteLimit": 2048000,
      "implicitDf": true,
      "rowLimit": 10000
     },
     "inputWidgets": {},
     "nuid": "55f09a6a-d7a5-4a79-81c6-f479c7a28f95",
     "showTitle": false,
     "tableResultSettingsMap": {},
     "title": ""
    }
   },
   "outputs": [],
   "source": [
    "display(spark.sql(\"select date, count(*), mean(mean_price) from default.project_data group by `date`\"))"
   ]
  },
  {
   "cell_type": "markdown",
   "metadata": {
    "application/vnd.databricks.v1+cell": {
     "cellMetadata": {},
     "inputWidgets": {},
     "nuid": "0ff07061-06c1-46a3-ba85-b863e2d19520",
     "showTitle": false,
     "tableResultSettingsMap": {},
     "title": ""
    }
   },
   "source": [
    "Come già anticipato nella precedente sezione, il numero di tweet sul Bitcoin è cresciuto insieme al prezzo e ha continuato a salire anche in seguito al crollo tra gennaio e settembre 2018. Dopo quella data, i due grafici hanno ripreso ad andare quasi di pari passo.\n",
    "\n",
    "La cella che segue mostra due grafici:\n",
    "- Nella scheda \"sentiment_per_time\" si mostra l'andamento del sentiment in funzione del tempo;\n",
    "- Nella scheda \"price_sentiment_per_time\" si mostrano invece il numero dei tweet positivi e negativi e il prezzo medio in funzione del tempo."
   ]
  },
  {
   "cell_type": "code",
   "execution_count": 0,
   "metadata": {
    "application/vnd.databricks.v1+cell": {
     "cellMetadata": {
      "byteLimit": 2048000,
      "rowLimit": 10000
     },
     "inputWidgets": {},
     "nuid": "738d42c2-a718-467a-a6a4-220c87696d72",
     "showTitle": false,
     "tableResultSettingsMap": {},
     "title": ""
    }
   },
   "outputs": [],
   "source": [
    "display(spark.sql(\"select date, sum(case when sentiment='positive' then 1.0 else 0.0 end) as n_positives, sum(case when sentiment='negative' then 1.0 else 0.0 end) as n_negatives, sum(case when sentiment='neutral' then 1.0 else 0.0 end) as n_neutrals, mean(mean_price) as mean_price from default.project_data group by date\"))"
   ]
  },
  {
   "cell_type": "markdown",
   "metadata": {
    "application/vnd.databricks.v1+cell": {
     "cellMetadata": {},
     "inputWidgets": {},
     "nuid": "0e0ca36c-8b63-427f-872b-ff8dbe94b54d",
     "showTitle": false,
     "tableResultSettingsMap": {},
     "title": ""
    }
   },
   "source": [
    "Nel grafico \"sentiment_per_time\" si osserva una generica prevalenza di tweet neutrali, seguiti dai tweet positivi. Questa tendenza si è invertita nel febbraio 2018 e tra dicembre 2018 e aprile 2019, quando il prezzo medio ha iniziato a salire.\n",
    "\n",
    "Per quanto riguarda il grafico \"price_sentiment_per_time\" si nota un andamento simile nel numero di tweet positivi e negativi, specialmente dopo il calo di prezzo medio nel primo semestre 2018.\n",
    "\n",
    "Il grafico seguente mostra il sentiment medio dei tweet in base alla fascia oraria."
   ]
  },
  {
   "cell_type": "code",
   "execution_count": 0,
   "metadata": {
    "application/vnd.databricks.v1+cell": {
     "cellMetadata": {
      "byteLimit": 2048000,
      "implicitDf": true,
      "rowLimit": 10000
     },
     "inputWidgets": {},
     "nuid": "785b8f39-374e-4419-b8e3-f13d42b00b8e",
     "showTitle": false,
     "tableResultSettingsMap": {},
     "title": ""
    }
   },
   "outputs": [],
   "source": [
    "display(df.groupBy(\"date\",\"time_slot\",\"sentiment\").count().groupBy(\"time_slot\",\"sentiment\").mean())"
   ]
  },
  {
   "cell_type": "markdown",
   "metadata": {
    "application/vnd.databricks.v1+cell": {
     "cellMetadata": {},
     "inputWidgets": {},
     "nuid": "375b5efe-7a7e-4416-b441-eb55c1918026",
     "showTitle": false,
     "tableResultSettingsMap": {},
     "title": ""
    }
   },
   "source": [
    "La tendenza generale è una prevalenza di tweet neutrali per la maggior parte della giornata. Tuttavia, mentre la tendenza delle date osserva una prevalenza di tweet neutrali e positivi, nelle fasce orarie si registra in media uno spostamento del sentiment tra il neutrale e il negativo.\n",
    "\n",
    "Nei tre grafici seguenti, si mostra la suddivisione in fascia oraria in base al sentiment."
   ]
  },
  {
   "cell_type": "code",
   "execution_count": 0,
   "metadata": {
    "application/vnd.databricks.v1+cell": {
     "cellMetadata": {
      "byteLimit": 2048000,
      "rowLimit": 10000
     },
     "inputWidgets": {},
     "nuid": "f61a4896-82a1-438e-ba8d-c85994045f17",
     "showTitle": false,
     "tableResultSettingsMap": {},
     "title": ""
    }
   },
   "outputs": [],
   "source": [
    "display(df.filter(df.sentiment==\"neutral\").groupBy(\"date\",\"time_slot\").count().groupBy(\"time_slot\").mean())"
   ]
  },
  {
   "cell_type": "code",
   "execution_count": 0,
   "metadata": {
    "application/vnd.databricks.v1+cell": {
     "cellMetadata": {
      "byteLimit": 2048000,
      "rowLimit": 10000
     },
     "inputWidgets": {},
     "nuid": "879eb276-3a97-4c48-9a4d-dff7a90a4452",
     "showTitle": false,
     "tableResultSettingsMap": {},
     "title": ""
    }
   },
   "outputs": [],
   "source": [
    "display(df.filter(df.sentiment==\"positive\").groupBy(\"date\",\"time_slot\").count().groupBy(\"time_slot\").mean())"
   ]
  },
  {
   "cell_type": "code",
   "execution_count": 0,
   "metadata": {
    "application/vnd.databricks.v1+cell": {
     "cellMetadata": {
      "byteLimit": 2048000,
      "rowLimit": 10000
     },
     "inputWidgets": {},
     "nuid": "2877cd41-9da7-48cb-bd5a-0681723701d9",
     "showTitle": false,
     "tableResultSettingsMap": {},
     "title": ""
    }
   },
   "outputs": [],
   "source": [
    "display(df.filter(df.sentiment==\"negative\").groupBy(\"date\",\"time_slot\").count().groupBy(\"time_slot\").mean())"
   ]
  },
  {
   "cell_type": "markdown",
   "metadata": {
    "application/vnd.databricks.v1+cell": {
     "cellMetadata": {},
     "inputWidgets": {},
     "nuid": "e59bd18e-a68b-420d-86a0-11bdc1d35ff0",
     "showTitle": false,
     "tableResultSettingsMap": {},
     "title": ""
    }
   },
   "source": [
    "Dai grafici appena mostrati possiamo dedurre che:\n",
    "- Il picco di tweet neutrali viene osservato tra le 4 e le 5 del mattino, il che fa supporre che si trattino di tweet informativi che precedono l'apertura delle borse;\n",
    "- Il massimo dei tweet negativi e positivi si registra intorno a metà giornata di operazioni in borsa, ossia tra le 11 e le 12 per i tweet positivi e tra le 12 e le 13 per i tweet negativi. Questo porta a supporre che si trattino di tweet \"checkpoint\" per fare il punto dell'andamento del prezzo a metà giornata;\n",
    "- Il minimo dei tweet neutrali e negativi si registra nelle ore serali, comportamento che porta a ipotizzare che si trattino soprattutto di tweet \"riepilogativi\" sulla giornata appena trascorsa.\n",
    "\n",
    "Per l'ultima parte della panoramica temporale, si è deciso di focalizzare l'attenzione sui tweet pubblicati intorno all'apertura delle borse (9:30 del mattino) e alla loro chiusura (16:00 del pomeriggio). Per facilitare l'estrazione delle informazioni, i dati filtrati sono stati salvati nelle tabelle *open_tab* e *close_tab*"
   ]
  },
  {
   "cell_type": "code",
   "execution_count": 0,
   "metadata": {
    "application/vnd.databricks.v1+cell": {
     "cellMetadata": {
      "byteLimit": 2048000,
      "rowLimit": 10000
     },
     "inputWidgets": {},
     "nuid": "6bcd4d95-0ff4-457f-a186-dfd473e8cb94",
     "showTitle": false,
     "tableResultSettingsMap": {},
     "title": ""
    }
   },
   "outputs": [],
   "source": [
    "df_open=df.filter((df.time_slot==\"8-9\") | (df.time_slot==\"9-10\")).select(\"date\",\"sentiment\",\"open_price\")\n",
    "df_close=df.filter((df.time_slot==\"15-16\") | (df.time_slot==\"16-17\")).select(\"date\",\"sentiment\",\"close_price\")"
   ]
  },
  {
   "cell_type": "code",
   "execution_count": 0,
   "metadata": {
    "application/vnd.databricks.v1+cell": {
     "cellMetadata": {
      "byteLimit": 2048000,
      "rowLimit": 10000
     },
     "inputWidgets": {},
     "nuid": "57a58e87-a1f3-45e5-b5e8-5e2080c5fb93",
     "showTitle": false,
     "tableResultSettingsMap": {},
     "title": ""
    }
   },
   "outputs": [],
   "source": [
    "df_open.write.mode(\"overwrite\").option(\"overwriteSchema\",\"true\").saveAsTable(\"default.open_tab\")\n",
    "df_close.write.mode(\"overwrite\").option(\"overwriteSchema\",\"true\").saveAsTable(\"default.close_tab\")"
   ]
  },
  {
   "cell_type": "markdown",
   "metadata": {
    "application/vnd.databricks.v1+cell": {
     "cellMetadata": {},
     "inputWidgets": {},
     "nuid": "81125751-2ea0-4193-aa5d-0640e4942ebb",
     "showTitle": false,
     "tableResultSettingsMap": {},
     "title": ""
    }
   },
   "source": [
    "I due grafici mostrano l'andamento del sentiment positivo e negativo e del prezzo medio in funzione del tempo sia all'apertura che alla chiusura."
   ]
  },
  {
   "cell_type": "code",
   "execution_count": 0,
   "metadata": {
    "application/vnd.databricks.v1+cell": {
     "cellMetadata": {
      "byteLimit": 2048000,
      "implicitDf": true,
      "rowLimit": 10000
     },
     "inputWidgets": {},
     "nuid": "63f8fb12-969b-4307-9209-8610daf550ce",
     "showTitle": false,
     "tableResultSettingsMap": {},
     "title": ""
    }
   },
   "outputs": [],
   "source": [
    "display(spark.sql(\"\"\"\n",
    "                  select date,\n",
    "                  mean(open_price) as open_price,\n",
    "                  sum(case when sentiment=\"positive\" then 1 else 0 end) as n_positives,\n",
    "                  sum(case when sentiment=\"negative\" then 1 else 0 end) as n_negatives,\n",
    "                  sum(case when sentiment=\"neutral\" then 1 else 0 end) as n_neutrals\n",
    "                  from default.open_tab\n",
    "                  group by 1\n",
    "                  \"\"\"))"
   ]
  },
  {
   "cell_type": "code",
   "execution_count": 0,
   "metadata": {
    "application/vnd.databricks.v1+cell": {
     "cellMetadata": {
      "byteLimit": 2048000,
      "rowLimit": 10000
     },
     "inputWidgets": {},
     "nuid": "99914b23-b2d5-46f7-b9aa-e46f210f0260",
     "showTitle": false,
     "tableResultSettingsMap": {},
     "title": ""
    }
   },
   "outputs": [],
   "source": [
    "display(spark.sql(\"\"\"\n",
    "                  select date,\n",
    "                  mean(close_price) as close_price,\n",
    "                  sum(case when sentiment=\"positive\" then 1 else 0 end) as n_positives,\n",
    "                  sum(case when sentiment=\"negative\" then 1 else 0 end) as n_negatives,\n",
    "                  sum(case when sentiment=\"neutral\" then 1 else 0 end) as n_neutrals\n",
    "                  from default.close_tab\n",
    "                  group by 1\n",
    "                  \"\"\"))"
   ]
  },
  {
   "cell_type": "markdown",
   "metadata": {
    "application/vnd.databricks.v1+cell": {
     "cellMetadata": {},
     "inputWidgets": {},
     "nuid": "a8f9cd70-aa1c-47a3-9d40-3595d35d2e39",
     "showTitle": false,
     "tableResultSettingsMap": {},
     "title": ""
    }
   },
   "source": [
    "Osserviamo che i due grafici sono molto simili nella forma, ma che il sentiment negativo è emerso di più nel corso dell'apertura delle borse rispetto alle fasce orarie intorno alla chiusura."
   ]
  },
  {
   "cell_type": "markdown",
   "metadata": {
    "application/vnd.databricks.v1+cell": {
     "cellMetadata": {},
     "inputWidgets": {},
     "nuid": "e8bf44bf-8a12-427c-8c4c-c871c5cccf4f",
     "showTitle": false,
     "tableResultSettingsMap": {},
     "title": ""
    }
   },
   "source": [
    "## Panoramica delle reazioni\n",
    "In questa sezione sarà mostrata la relazione tra le reazioni ai tweet e il loro sentiment. In particolare, escluderemo da questa analisi i tweet neutrali per concentrarci sui tweet più polarizzanti.\n",
    "\n",
    "Innanzitutto, dalla tabella *project_data* importeremo solo le colonne relative al sentiment, alle reazioni totali e al numero di reazioni per ciascun tipo."
   ]
  },
  {
   "cell_type": "code",
   "execution_count": 0,
   "metadata": {
    "application/vnd.databricks.v1+cell": {
     "cellMetadata": {
      "byteLimit": 2048000,
      "rowLimit": 10000
     },
     "inputWidgets": {},
     "nuid": "4aa7335c-6397-44b5-bb7b-785722577ca7",
     "showTitle": false,
     "tableResultSettingsMap": {},
     "title": ""
    }
   },
   "outputs": [],
   "source": [
    "df=spark.sql(\"select sentiment, likes, replies, retweets, reactions from default.project_data where sentiment<>'neutral'\")\n",
    "display(df)"
   ]
  },
  {
   "cell_type": "markdown",
   "metadata": {
    "application/vnd.databricks.v1+cell": {
     "cellMetadata": {},
     "inputWidgets": {},
     "nuid": "a299fd68-612f-4cfd-a825-23be64e91a33",
     "showTitle": false,
     "tableResultSettingsMap": {},
     "title": ""
    }
   },
   "source": [
    "Il grafico di seguito riportato mostra la media di reazioni per tweet in base al sentiment."
   ]
  },
  {
   "cell_type": "code",
   "execution_count": 0,
   "metadata": {
    "application/vnd.databricks.v1+cell": {
     "cellMetadata": {
      "byteLimit": 2048000,
      "rowLimit": 10000
     },
     "inputWidgets": {},
     "nuid": "8504cd91-0943-4fb8-b9b1-4ffc6446826b",
     "showTitle": false,
     "tableResultSettingsMap": {},
     "title": ""
    }
   },
   "outputs": [],
   "source": [
    "display(df.select(\"sentiment\",\"reactions\").groupBy(\"sentiment\").mean())"
   ]
  },
  {
   "cell_type": "markdown",
   "metadata": {
    "application/vnd.databricks.v1+cell": {
     "cellMetadata": {},
     "inputWidgets": {},
     "nuid": "7e602a5c-7764-40ac-b2c9-e10052e22bbd",
     "showTitle": false,
     "tableResultSettingsMap": {},
     "title": ""
    }
   },
   "source": [
    "Osserviamo che, in media, un tweet con sentiment negativo attira meno reazioni rispetto a un tweet positivo, anche se la differenza tra le due medie è minima.\n",
    "\n",
    "Nella cella sottostante sono riportati tre grafici:\n",
    "- La scheda \"likes\" mostra il numero medio di like in base al sentiment;\n",
    "- La scheda \"replies\" mostra il numero medio di risposte in base al sentiment;\n",
    "- La scheda \"retweets\" mostra il numero medio di condivisioni in base al sentiment."
   ]
  },
  {
   "cell_type": "code",
   "execution_count": 0,
   "metadata": {
    "application/vnd.databricks.v1+cell": {
     "cellMetadata": {
      "byteLimit": 2048000,
      "rowLimit": 10000
     },
     "inputWidgets": {},
     "nuid": "80191850-a4c5-4f21-a3db-f74dce98efd5",
     "showTitle": false,
     "tableResultSettingsMap": {},
     "title": ""
    }
   },
   "outputs": [],
   "source": [
    "display(df.select(\"sentiment\",\"likes\",\"replies\",\"retweets\").groupBy(\"sentiment\").mean())"
   ]
  },
  {
   "cell_type": "markdown",
   "metadata": {
    "application/vnd.databricks.v1+cell": {
     "cellMetadata": {},
     "inputWidgets": {},
     "nuid": "03a215c6-86d0-4f39-a44f-317f8199484e",
     "showTitle": false,
     "tableResultSettingsMap": {},
     "title": ""
    }
   },
   "source": [
    "Dai grafici sopra mostrati emerge quanto segue:\n",
    "- In media, un tweet negativo attira più reazioni di tipo passivo (come appunto i like), mentre un tweet positivo attira più reazioni che richiedono una maggiore attività da parte dell'utente (come possono essere le risposte e/o le condivisioni);\n",
    "- Nelle reazioni attive, il divario tra tweet positivo e tweet negativo è maggiore quando si tratta di condivisioni rispetto alle risposte."
   ]
  },
  {
   "cell_type": "markdown",
   "metadata": {
    "application/vnd.databricks.v1+cell": {
     "cellMetadata": {},
     "inputWidgets": {},
     "nuid": "7ff57292-c471-4de9-8583-8acf8fb338c5",
     "showTitle": false,
     "tableResultSettingsMap": {},
     "title": ""
    }
   },
   "source": [
    "## Conclusioni\n",
    "\n",
    "In questo notebook è stata analizzata una raccolta di tweet allo scopo di effettuare un analisi di consenso sul Bitcoin.\n",
    "\n",
    "La prima sezione è stata ampiamente dedicata alla preparazione dei dati. Dopo aver importato e trasformato i dati relativi ai tweet e allo storico dei prezzi, i due dataset sono stati uniti in un'unica tabella successivamente utilizzata per l'analisi in oggetto.\n",
    "\n",
    "La seconda sezione è dedicata a una panoramica generale dei dati ottenuti. Sono state infatti esplorate l'andamento dei prezzi e del numero di tweet, la media delle reazioni e la composizione del dataset in base al sentiment.\n",
    "\n",
    "Nella terza sezione ci si è concentrati sulla panoramica storica e, in particolare, sulla relazione tra il prezzo del Bitcoin, il numero di tweet e il loro sentiment. L'analisi della panoramica storica si è svolta sia dal punto di vista della data che da quello della fascia oraria, con particolare enfasi sui dati negli orari di apertura e chiusura delle borse.\n",
    "\n",
    "Infine, nella quarta sezione, è stato esplorato il rapporto tra sentiment e reazioni ai tweet, concentrandoci in particolare sui tweet positivi e negativi. Dopo una panoramica generale sulle reazioni totali, l'analisi si è concentrata su ciascun tipo di reazione (like, risposta e condivisione) in base al sentiment del tweet."
   ]
  }
 ],
 "metadata": {
  "application/vnd.databricks.v1+notebook": {
   "dashboards": [],
   "environmentMetadata": null,
   "language": "python",
   "notebookMetadata": {
    "mostRecentlyExecutedCommandWithImplicitDF": {
     "commandId": -1,
     "dataframes": [
      "_sqldf"
     ]
    },
    "pythonIndentUnit": 4
   },
   "notebookName": "analisi_consenso_bitcoin",
   "widgets": {}
  }
 },
 "nbformat": 4,
 "nbformat_minor": 0
}
